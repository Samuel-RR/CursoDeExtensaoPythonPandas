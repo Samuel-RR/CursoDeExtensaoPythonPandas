{
  "nbformat": 4,
  "nbformat_minor": 0,
  "metadata": {
    "colab": {
      "provenance": [],
      "authorship_tag": "ABX9TyMhRBgs/DKf7SKgxBDR6YLt",
      "include_colab_link": true
    },
    "kernelspec": {
      "name": "python3",
      "display_name": "Python 3"
    },
    "language_info": {
      "name": "python"
    }
  },
  "cells": [
    {
      "cell_type": "markdown",
      "metadata": {
        "id": "view-in-github",
        "colab_type": "text"
      },
      "source": [
        "<a href=\"https://colab.research.google.com/github/Samuel-RR/CursoDeExtensaoPythonPandas/blob/main/Primeiro_Exemplo_em_Pandas.ipynb\" target=\"_parent\"><img src=\"https://colab.research.google.com/assets/colab-badge.svg\" alt=\"Open In Colab\"/></a>"
      ]
    },
    {
      "cell_type": "markdown",
      "source": [
        "**Primeiro exemplo de manipulação de dados usando Python Pandas**\n",
        "\n",
        "Autor: Samuel Ribeiro, Henrique Poyatos e galera\n",
        "\n",
        "Data: 06/02/2023"
      ],
      "metadata": {
        "id": "VfmdKyV-UaMQ"
      }
    },
    {
      "cell_type": "code",
      "execution_count": null,
      "metadata": {
        "colab": {
          "base_uri": "https://localhost:8080/"
        },
        "id": "XtXiQSMBIRht",
        "outputId": "f37002a4-1a8b-4043-f60e-53f97c26c016"
      },
      "outputs": [
        {
          "output_type": "stream",
          "name": "stdout",
          "text": [
            "Alô mundo!\n"
          ]
        }
      ],
      "source": [
        "print(\"Alô mundo!\")"
      ]
    },
    {
      "cell_type": "code",
      "source": [
        "# Importando biblioteca pandas no Python\n",
        "import pandas as pd\n",
        "\n",
        "combustiveis_df = pd.read_excel(\"ca-2021-02.xlsx\")\n",
        "\n"
      ],
      "metadata": {
        "id": "KA-jb3nxU7db"
      },
      "execution_count": 1,
      "outputs": []
    },
    {
      "cell_type": "code",
      "source": [
        "# Usa o print para ver o dataframe\n",
        "print(combustiveis_df)"
      ],
      "metadata": {
        "id": "37TBfwcWBDuF"
      },
      "execution_count": null,
      "outputs": []
    },
    {
      "cell_type": "code",
      "source": [
        "display(combustiveis_df)"
      ],
      "metadata": {
        "id": "rqCCwEb0CIt0"
      },
      "execution_count": null,
      "outputs": []
    },
    {
      "cell_type": "code",
      "source": [
        "# Exibe as primeiras 5 linhas\n",
        "# Por padrão o head puxa as 5 primeiras linhas, para colocar mais ou menos só colocar o número desejado\n",
        "# E pode ser usado o print em vez do display\n",
        "display(combustiveis_df.head(5))"
      ],
      "metadata": {
        "id": "-qnFCmloE4Tl"
      },
      "execution_count": null,
      "outputs": []
    },
    {
      "cell_type": "code",
      "source": [
        "# Se for 15 linhas... só fazer assim \n",
        "display(combustiveis_df.head(15))"
      ],
      "metadata": {
        "id": "N9byUrdCE-hu"
      },
      "execution_count": null,
      "outputs": []
    },
    {
      "cell_type": "code",
      "source": [
        "# Comandos Dataframe.shape e Dataframe.describe()\n",
        "\n",
        "display(combustiveis_df.shape)\n",
        "display(combustiveis_df.shape[0])\n",
        "\n",
        "# O shape mostra o número de linhas e colunas (linhas, colunas)\n"
      ],
      "metadata": {
        "id": "peXSopw0HafB"
      },
      "execution_count": null,
      "outputs": []
    },
    {
      "cell_type": "code",
      "source": [
        "#Quais as colunas e quais informações cada uma tem...\n",
        "print(combustiveis_df.info())"
      ],
      "metadata": {
        "id": "FVOyifGTKrAz"
      },
      "execution_count": null,
      "outputs": []
    },
    {
      "cell_type": "code",
      "source": [
        "#describe() mostra as estatísticas \"mais básicas\" que a gente precisa\n",
        "\n",
        "print(combustiveis_df.describe())\n"
      ],
      "metadata": {
        "id": "OpjbZz5XJ7mO"
      },
      "execution_count": null,
      "outputs": []
    },
    {
      "cell_type": "code",
      "source": [
        "# Filtrar apenas por uma coluna\n",
        "display(combustiveis_df['Revenda'].head(6))"
      ],
      "metadata": {
        "id": "VytrlJ07YVZH"
      },
      "execution_count": null,
      "outputs": []
    },
    {
      "cell_type": "code",
      "source": [
        "# Aqui criamos um novo dataframe com as colunas que queremos\n",
        "ca_df= combustiveis_df[['Revenda','Municipio','Produto','Valor de Venda']]\n",
        "display(ca_df)"
      ],
      "metadata": {
        "id": "Pt3rcaslZz6_"
      },
      "execution_count": null,
      "outputs": []
    },
    {
      "cell_type": "code",
      "source": [
        "#Exibe a quarta linha\n",
        "display(ca_df.loc[3])"
      ],
      "metadata": {
        "id": "K32Bwb1zb9XN"
      },
      "execution_count": null,
      "outputs": []
    },
    {
      "cell_type": "code",
      "source": [
        "#exibir da décima linha até a vigésima linha\n",
        "display(ca_df.loc[9:19])"
      ],
      "metadata": {
        "id": "IIEgOtKodV2o"
      },
      "execution_count": null,
      "outputs": []
    },
    {
      "cell_type": "code",
      "source": [
        "#criar uma dataframe gas_df contendo apenas as 4 colunas(Revenda, Municipio, Produto, Valor de Venda)\n",
        "gas_df= ca_df.loc[ca_df['Produto'] =='GASOLINA']\n",
        "display(gas_df)\n"
      ],
      "metadata": {
        "id": "wUFrkQbdeM0M"
      },
      "execution_count": null,
      "outputs": []
    },
    {
      "cell_type": "code",
      "source": [
        "display(gas_df.describe())\n",
        "\n",
        "display(gas_df['Valor de Venda'].max())"
      ],
      "metadata": {
        "id": "WIZnw2H_f-vJ"
      },
      "execution_count": null,
      "outputs": []
    },
    {
      "cell_type": "code",
      "source": [
        "#Se eu quiser saber qual é o posto e o munícipio com a gasolina mais cara\n",
        "display(gas_df[['Revenda','Municipio','Valor de Venda']].max())"
      ],
      "metadata": {
        "id": "-v6eEZSkhOBr"
      },
      "execution_count": null,
      "outputs": []
    },
    {
      "cell_type": "code",
      "source": [
        "#DataFrame.loc[] com múltiplas condições para filtragem\n",
        "#Quais são os preços e postos que vendem ETANOL na minha cidade (ITABERABA)... Não tem minha cidade nos dado... que abalo kkkk, cidade mais próxima (FEIRA DE SANTANA)\n",
        "etanol_ita_df = ca_df.loc[(ca_df['Produto'] == 'ETANOL') & \n",
        "                          (ca_df['Municipio'] == 'FEIRA DE SANTANA')]\n",
        "\n",
        "#DATAFRAME.sort_value(by='xxxxxx') serve para ordenar o valor do menor para o maior\n",
        "\n",
        "display(etanol_ita_df.sort_values(by='Valor de Venda'))"
      ],
      "metadata": {
        "id": "0EJRvo3NmPJu"
      },
      "execution_count": null,
      "outputs": []
    },
    {
      "cell_type": "code",
      "source": [
        "# Qual a média de preços dos combustíveis GASOLINA e GASOLINA ADITIVADA do Bairro CENTRO em FEIRA DE SANTANA?\n",
        "display(combustiveis_df.loc[(combustiveis_df['Bairro'] == 'CENTRO') & \n",
        "                            (combustiveis_df['Municipio'] == 'FEIRA DE SANTANA') & \n",
        "                            ((combustiveis_df['Produto'] == 'GASOLINA') | \n",
        "                            (combustiveis_df['Produto'] == 'GASOLINA ADITIVADA')), \n",
        "                            ['Valor de Venda']].mean())"
      ],
      "metadata": {
        "id": "ZYTVkin5qYZQ"
      },
      "execution_count": null,
      "outputs": []
    },
    {
      "cell_type": "code",
      "source": [
        "# Qual a média de preços dos combustíveis na BAHIA?\n",
        "display(combustiveis_df.loc[(combustiveis_df['Estado - Sigla'] == 'BA'),['Valor de Venda']].mean())\n",
        "\n"
      ],
      "metadata": {
        "id": "wG1z70yS2wdk"
      },
      "execution_count": null,
      "outputs": []
    },
    {
      "cell_type": "code",
      "source": [
        "# Qual a média de preços dos combustíveis GASOLINA e GASOLINA ADITIVADA do Bairro HUMILDES em FEIRA DE SANTANA?\n",
        "display(combustiveis_df.loc[(combustiveis_df['Bairro'] == 'HUMILDES') & \n",
        "                            (combustiveis_df['Municipio'] == 'FEIRA DE SANTANA') & \n",
        "                            (combustiveis_df['Produto'].isin([\"GASOLINA\", \"GASOLINA ADITIVADA\"])), \n",
        "                            ['Valor de Venda']].mean())\n",
        "#Com o DATAFRAME.isin economiza linhas e deixa mais claro e mais fácil a leitura do código"
      ],
      "metadata": {
        "id": "ZaA_uktPvRn6"
      },
      "execution_count": null,
      "outputs": []
    },
    {
      "cell_type": "code",
      "source": [
        "# Como mostrar média de valor de venda POR COMBUSTÍVEL Brasil todo?\n",
        "media_brasil_df = ca_df[['Produto', 'Valor de Venda']].groupby(by='Produto').mean().round(2)\n",
        "\n",
        "display(media_brasil_df)"
      ],
      "metadata": {
        "id": "gpuzehf5v54O"
      },
      "execution_count": null,
      "outputs": []
    },
    {
      "cell_type": "code",
      "source": [
        "#Media por estado\n",
        "\n",
        "media_brasil_df = ca_df[['Municipio', 'Valor de Venda']].groupby(by='Municipio').mean().round(2)\n",
        "\n",
        "display(media_brasil_df)"
      ],
      "metadata": {
        "id": "9_8PjYmL5iN7"
      },
      "execution_count": null,
      "outputs": []
    },
    {
      "cell_type": "code",
      "source": [
        "# Quero adicionar uma coluna de valor booleano no combustiveis_df chamada \"Ativo\" que, por \n",
        "# padrão, vai ser True para TODAS as linhas\n",
        "\n",
        "combustiveis_df['Ativo'] = True\n",
        "\n",
        "print(combustiveis_df.info())\n",
        "\n",
        "display(combustiveis_df.head())"
      ],
      "metadata": {
        "id": "h_e69fzVwHfN"
      },
      "execution_count": null,
      "outputs": []
    },
    {
      "cell_type": "code",
      "source": [
        "#E se eu quiser uma coluna nova chamada \"OBS\"\n",
        "# E que preencha automaticamente \"MELHOR CIDADE\"\n",
        "# quando o Municipio for FEIRA DE SANTANA, BA...\n",
        "#combustiveis_df['OBS'] = \"MELHOR CIDADE\" if combustiveis_df['Municipio'] == \"FEIRA DE SANTANA\" else \"\""
      ],
      "metadata": {
        "id": "dkd8pA_w6pAy"
      },
      "execution_count": null,
      "outputs": []
    },
    {
      "cell_type": "code",
      "source": [
        "# Exportar para Excel o dataframe com etanol em Feira de Santana....\n",
        "\n",
        "etanol_ita_df.to_excel('etanol_ita.xlsx', sheet_name='Etanol em Feira de Santana')"
      ],
      "metadata": {
        "id": "7ENOXEM32bTA"
      },
      "execution_count": 46,
      "outputs": []
    }
  ]
}