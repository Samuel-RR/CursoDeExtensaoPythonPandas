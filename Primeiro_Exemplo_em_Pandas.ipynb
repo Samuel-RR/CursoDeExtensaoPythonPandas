{
  "nbformat": 4,
  "nbformat_minor": 0,
  "metadata": {
    "colab": {
      "provenance": [],
      "authorship_tag": "ABX9TyNaGefkawt9cdKPVY7dS6Ls",
      "include_colab_link": true
    },
    "kernelspec": {
      "name": "python3",
      "display_name": "Python 3"
    },
    "language_info": {
      "name": "python"
    }
  },
  "cells": [
    {
      "cell_type": "markdown",
      "metadata": {
        "id": "view-in-github",
        "colab_type": "text"
      },
      "source": [
        "<a href=\"https://colab.research.google.com/github/Samuel-RR/CursoDeExtensaoPythonPandas/blob/main/Primeiro_Exemplo_em_Pandas.ipynb\" target=\"_parent\"><img src=\"https://colab.research.google.com/assets/colab-badge.svg\" alt=\"Open In Colab\"/></a>"
      ]
    },
    {
      "cell_type": "markdown",
      "source": [
        "**Primeiro exemplo de manipulação de dados usando Python Pandas**\n",
        "\n",
        "Autor: Samuel Ribeiro, Henrique Poyatos e galera\n",
        "\n",
        "Data: 06/02/2023"
      ],
      "metadata": {
        "id": "VfmdKyV-UaMQ"
      }
    },
    {
      "cell_type": "code",
      "execution_count": null,
      "metadata": {
        "colab": {
          "base_uri": "https://localhost:8080/"
        },
        "id": "XtXiQSMBIRht",
        "outputId": "f37002a4-1a8b-4043-f60e-53f97c26c016"
      },
      "outputs": [
        {
          "output_type": "stream",
          "name": "stdout",
          "text": [
            "Alô mundo!\n"
          ]
        }
      ],
      "source": [
        "print(\"Alô mundo!\")"
      ]
    },
    {
      "cell_type": "code",
      "source": [
        "# Importando biblioteca pandas no Python\n",
        "import pandas as pd\n",
        "\n",
        "combustiveis_df = pd.read_excel(\"ca-2021-02.xlsx\")\n",
        "\n"
      ],
      "metadata": {
        "id": "KA-jb3nxU7db"
      },
      "execution_count": 33,
      "outputs": []
    },
    {
      "cell_type": "code",
      "source": [
        "# Usa o print para ver o dataframe\n",
        "print(combustiveis_df)"
      ],
      "metadata": {
        "id": "37TBfwcWBDuF"
      },
      "execution_count": null,
      "outputs": []
    },
    {
      "cell_type": "code",
      "source": [
        "display(combustiveis_df)"
      ],
      "metadata": {
        "id": "rqCCwEb0CIt0"
      },
      "execution_count": null,
      "outputs": []
    },
    {
      "cell_type": "code",
      "source": [
        "# Exibe as primeiras 5 linhas\n",
        "# Por padrão o head puxa as 5 primeiras linhas, para colocar mais ou menos só colocar o número desejado\n",
        "# E pode ser usado o print em vez do display\n",
        "display(combustiveis_df.head(5))"
      ],
      "metadata": {
        "id": "-qnFCmloE4Tl"
      },
      "execution_count": null,
      "outputs": []
    },
    {
      "cell_type": "code",
      "source": [
        "# Se for 15 linhas... só fazer assim \n",
        "display(combustiveis_df.head(15))"
      ],
      "metadata": {
        "id": "N9byUrdCE-hu"
      },
      "execution_count": null,
      "outputs": []
    },
    {
      "cell_type": "code",
      "source": [
        "# Comandos Dataframe.shape e Dataframe.describe()\n",
        "\n",
        "display(combustiveis_df.shape)\n",
        "display(combustiveis_df.shape[0])\n",
        "\n",
        "# O shape mostra o número de linhas e colunas (linhas, colunas)\n"
      ],
      "metadata": {
        "id": "peXSopw0HafB"
      },
      "execution_count": null,
      "outputs": []
    },
    {
      "cell_type": "code",
      "source": [
        "#Quais as colunas e quais informações cada uma tem...\n",
        "print(combustiveis_df.info())"
      ],
      "metadata": {
        "id": "FVOyifGTKrAz"
      },
      "execution_count": null,
      "outputs": []
    },
    {
      "cell_type": "code",
      "source": [
        "#describe() mostra as estatísticas \"mais básicas\" que a gente precisa\n",
        "\n",
        "print(combustiveis_df.describe())\n"
      ],
      "metadata": {
        "id": "OpjbZz5XJ7mO"
      },
      "execution_count": null,
      "outputs": []
    },
    {
      "cell_type": "code",
      "source": [
        "# Filtrar apenas por uma coluna\n",
        "display(combustiveis_df['Revenda'].head(6))"
      ],
      "metadata": {
        "id": "VytrlJ07YVZH"
      },
      "execution_count": null,
      "outputs": []
    },
    {
      "cell_type": "code",
      "source": [
        "# Aqui criamos um novo dataframe com as colunas que queremos\n",
        "ca_df= combustiveis_df[['Revenda','Municipio','Produto','Valor de Venda']]\n",
        "display(ca_df)"
      ],
      "metadata": {
        "id": "Pt3rcaslZz6_"
      },
      "execution_count": null,
      "outputs": []
    },
    {
      "cell_type": "code",
      "source": [
        "#Exibe a quarta linha\n",
        "display(ca_df.loc[3])"
      ],
      "metadata": {
        "id": "K32Bwb1zb9XN"
      },
      "execution_count": null,
      "outputs": []
    },
    {
      "cell_type": "code",
      "source": [
        "#exibir da décima linha até a vigésima linha\n",
        "display(ca_df.loc[9:19])"
      ],
      "metadata": {
        "id": "IIEgOtKodV2o"
      },
      "execution_count": null,
      "outputs": []
    },
    {
      "cell_type": "code",
      "source": [
        "#criar uma dataframe gas_df contendo apenas as 4 colunas(Revenda, Municipio, Produto, Valor de Venda)\n",
        "gas_df= ca_df.loc[ca_df['Produto'] =='GASOLINA']\n",
        "display(gas_df)\n"
      ],
      "metadata": {
        "id": "wUFrkQbdeM0M"
      },
      "execution_count": null,
      "outputs": []
    },
    {
      "cell_type": "code",
      "source": [
        "display(gas_df.describe())\n",
        "\n",
        "display(gas_df['Valor de Venda'].max())"
      ],
      "metadata": {
        "id": "WIZnw2H_f-vJ"
      },
      "execution_count": null,
      "outputs": []
    },
    {
      "cell_type": "code",
      "source": [
        "#Se eu quiser saber qual é o posto e o munícipio com a gasolina mais cara\n",
        "display(gas_df[['Revenda','Municipio','Valor de Venda']].max())"
      ],
      "metadata": {
        "id": "-v6eEZSkhOBr"
      },
      "execution_count": null,
      "outputs": []
    }
  ]
}