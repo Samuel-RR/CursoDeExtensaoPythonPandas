{
  "nbformat": 4,
  "nbformat_minor": 0,
  "metadata": {
    "colab": {
      "provenance": [],
      "authorship_tag": "ABX9TyMhRBgs/DKf7SKgxBDR6YLt",
      "include_colab_link": true
    },
    "kernelspec": {
      "name": "python3",
      "display_name": "Python 3"
    },
    "language_info": {
      "name": "python"
    }
  },
  "cells": [
    {
      "cell_type": "markdown",
      "metadata": {
        "id": "view-in-github",
        "colab_type": "text"
      },
      "source": [
        "<a href=\"https://colab.research.google.com/github/Samuel-RR/CursoDeExtensaoPythonPandas/blob/main/Primeiro_Exemplo_em_Pandas.ipynb\" target=\"_parent\"><img src=\"https://colab.research.google.com/assets/colab-badge.svg\" alt=\"Open In Colab\"/></a>"
      ]
    },
    {
      "cell_type": "markdown",
      "source": [
        "**Primeiro exemplo de manipulação de dados usando Python Pandas**\n",
        "\n",
        "Autor: Samuel Ribeiro, Henrique Poyatos e galera\n",
        "\n",
        "Data: 06/02/2023"
      ],
      "metadata": {
        "id": "VfmdKyV-UaMQ"
      }
    },
    {
      "cell_type": "code",
      "execution_count": null,
      "metadata": {
        "colab": {
          "base_uri": "https://localhost:8080/"
        },
        "id": "XtXiQSMBIRht",
        "outputId": "f37002a4-1a8b-4043-f60e-53f97c26c016"
      },
      "outputs": [
        {
          "output_type": "stream",
          "name": "stdout",
          "text": [
            "Alô mundo!\n"
          ]
        }
      ],
      "source": [
        "print(\"Alô mundo!\")"
      ]
    },
    {
      "cell_type": "code",
      "source": [
        "# Importando biblioteca pandas no Python\n",
        "import pandas as pd\n",
        "\n",
        "combustiveis_df = pd.read_excel(\"ca-2021-02.xlsx\")\n",
        "\n"
      ],
      "metadata": {
        "id": "KA-jb3nxU7db"
      },
      "execution_count": 1,
      "outputs": []
    },
    {
      "cell_type": "code",
      "source": [
        "# Usa o print para ver o dataframe\n",
        "print(combustiveis_df)"
      ],
      "metadata": {
        "id": "37TBfwcWBDuF"
      },
      "execution_count": null,
      "outputs": []
    },
    {
      "cell_type": "code",
      "source": [
        "display(combustiveis_df)"
      ],
      "metadata": {
        "id": "rqCCwEb0CIt0"
      },
      "execution_count": null,
      "outputs": []
    },
    {
      "cell_type": "code",
      "source": [
        "# Exibe as primeiras 5 linhas\n",
        "# Por padrão o head puxa as 5 primeiras linhas, para colocar mais ou menos só colocar o número desejado\n",
        "# E pode ser usado o print em vez do display\n",
        "display(combustiveis_df.head(5))"
      ],
      "metadata": {
        "id": "-qnFCmloE4Tl"
      },
      "execution_count": null,
      "outputs": []
    },
    {
      "cell_type": "code",
      "source": [
        "# Se for 15 linhas... só fazer assim \n",
        "display(combustiveis_df.head(15))"
      ],
      "metadata": {
        "id": "N9byUrdCE-hu",
        "colab": {
          "base_uri": "https://localhost:8080/",
          "height": 1000
        },
        "outputId": "2f2f116b-3791-4bf3-b8f0-10a6b82a3fcb"
      },
      "execution_count": 21,
      "outputs": [
        {
          "output_type": "display_data",
          "data": {
            "text/plain": [
              "   Regiao - Sigla Estado - Sigla        Municipio  \\\n",
              "0              NE             AL        ARAPIRACA   \n",
              "1              NE             AL        ARAPIRACA   \n",
              "2              NE             AL        ARAPIRACA   \n",
              "3              NE             AL        ARAPIRACA   \n",
              "4              NE             AL        ARAPIRACA   \n",
              "5              NE             AL  DELMIRO GOUVEIA   \n",
              "6              NE             AL  DELMIRO GOUVEIA   \n",
              "7              NE             AL  DELMIRO GOUVEIA   \n",
              "8              NE             AL  DELMIRO GOUVEIA   \n",
              "9              NE             AL  DELMIRO GOUVEIA   \n",
              "10             NE             AL  DELMIRO GOUVEIA   \n",
              "11             NE             AL  DELMIRO GOUVEIA   \n",
              "12             NE             AL  DELMIRO GOUVEIA   \n",
              "13             NE             AL  DELMIRO GOUVEIA   \n",
              "14             NE             AL  DELMIRO GOUVEIA   \n",
              "\n",
              "                                  Revenda      CNPJ da Revenda  \\\n",
              "0                    POSTO ARAPIRACA LTDA   12.451.076/0004-65   \n",
              "1                    POSTO ARAPIRACA LTDA   12.451.076/0004-65   \n",
              "2                    POSTO ARAPIRACA LTDA   12.451.076/0004-65   \n",
              "3                    POSTO ARAPIRACA LTDA   12.451.076/0004-65   \n",
              "4                    POSTO ARAPIRACA LTDA   12.451.076/0004-65   \n",
              "5          AUTO POSTO FREITAS & MAIA LTDA   12.436.978/0001-80   \n",
              "6          AUTO POSTO FREITAS & MAIA LTDA   12.436.978/0001-80   \n",
              "7          AUTO POSTO FREITAS & MAIA LTDA   12.436.978/0001-80   \n",
              "8          AUTO POSTO FREITAS & MAIA LTDA   12.436.978/0001-80   \n",
              "9          AUTO POSTO FREITAS & MAIA LTDA   12.436.978/0001-80   \n",
              "10               AUTO POSTO DA PEDRA LTDA   05.518.639/0001-87   \n",
              "11               AUTO POSTO DA PEDRA LTDA   05.518.639/0001-87   \n",
              "12               AUTO POSTO DA PEDRA LTDA   05.518.639/0001-87   \n",
              "13               AUTO POSTO DA PEDRA LTDA   05.518.639/0001-87   \n",
              "14  COMERCIO DE COMBUSTIVEIS NENZITA LTDA   04.431.113/0001-00   \n",
              "\n",
              "             Nome da Rua Numero Rua Complemento       Bairro        Cep  \\\n",
              "0         RODOVIA AL 220        105       KM 68  CANAFISTULA  57302-605   \n",
              "1         RODOVIA AL 220        105       KM 68  CANAFISTULA  57302-605   \n",
              "2         RODOVIA AL 220        105       KM 68  CANAFISTULA  57302-605   \n",
              "3         RODOVIA AL 220        105       KM 68  CANAFISTULA  57302-605   \n",
              "4         RODOVIA AL 220        105       KM 68  CANAFISTULA  57302-605   \n",
              "5   RUA FLORIANO PEIXOTO        247         NaN       CENTRO  57480-000   \n",
              "6   RUA FLORIANO PEIXOTO        247         NaN       CENTRO  57480-000   \n",
              "7   RUA FLORIANO PEIXOTO        247         NaN       CENTRO  57480-000   \n",
              "8   RUA FLORIANO PEIXOTO        247         NaN       CENTRO  57480-000   \n",
              "9   RUA FLORIANO PEIXOTO        247         NaN       CENTRO  57480-000   \n",
              "10  RUA FLORIANO PEIXOTO        281         NaN       CENTRO  57480-000   \n",
              "11  RUA FLORIANO PEIXOTO        281         NaN       CENTRO  57480-000   \n",
              "12  RUA FLORIANO PEIXOTO        281         NaN       CENTRO  57480-000   \n",
              "13  RUA FLORIANO PEIXOTO        281         NaN       CENTRO  57480-000   \n",
              "14       AVENIDA CAXANGA        126         NaN  PEDRA VELHA  57480-000   \n",
              "\n",
              "               Produto Data da Coleta  Valor de Venda  Valor de Compra  \\\n",
              "0             GASOLINA     2021-11-01           6.799              NaN   \n",
              "1               ETANOL     2021-11-01           5.299              NaN   \n",
              "2               DIESEL     2021-11-01           5.549              NaN   \n",
              "3   GASOLINA ADITIVADA     2021-11-01           6.899              NaN   \n",
              "4           DIESEL S10     2021-11-01           5.649              NaN   \n",
              "5             GASOLINA     2021-11-01           7.198              NaN   \n",
              "6               ETANOL     2021-11-01           5.982              NaN   \n",
              "7               DIESEL     2021-11-01           5.974              NaN   \n",
              "8   GASOLINA ADITIVADA     2021-11-01           7.208              NaN   \n",
              "9           DIESEL S10     2021-11-01           5.983              NaN   \n",
              "10            GASOLINA     2021-11-01           7.197              NaN   \n",
              "11              ETANOL     2021-11-01           5.987              NaN   \n",
              "12              DIESEL     2021-11-01           5.978              NaN   \n",
              "13          DIESEL S10     2021-11-01           5.989              NaN   \n",
              "14            GASOLINA     2021-11-01           7.175              NaN   \n",
              "\n",
              "   Unidade de Medida       Bandeira  Ativo  \n",
              "0         R$ / litro  VIBRA ENERGIA   True  \n",
              "1         R$ / litro  VIBRA ENERGIA   True  \n",
              "2         R$ / litro  VIBRA ENERGIA   True  \n",
              "3         R$ / litro  VIBRA ENERGIA   True  \n",
              "4         R$ / litro  VIBRA ENERGIA   True  \n",
              "5         R$ / litro  VIBRA ENERGIA   True  \n",
              "6         R$ / litro  VIBRA ENERGIA   True  \n",
              "7         R$ / litro  VIBRA ENERGIA   True  \n",
              "8         R$ / litro  VIBRA ENERGIA   True  \n",
              "9         R$ / litro  VIBRA ENERGIA   True  \n",
              "10        R$ / litro         BRANCA   True  \n",
              "11        R$ / litro         BRANCA   True  \n",
              "12        R$ / litro         BRANCA   True  \n",
              "13        R$ / litro         BRANCA   True  \n",
              "14        R$ / litro         BRANCA   True  "
            ],
            "text/html": [
              "\n",
              "  <div id=\"df-5a12d8c0-955d-440b-a338-2ddf0b6e55dd\">\n",
              "    <div class=\"colab-df-container\">\n",
              "      <div>\n",
              "<style scoped>\n",
              "    .dataframe tbody tr th:only-of-type {\n",
              "        vertical-align: middle;\n",
              "    }\n",
              "\n",
              "    .dataframe tbody tr th {\n",
              "        vertical-align: top;\n",
              "    }\n",
              "\n",
              "    .dataframe thead th {\n",
              "        text-align: right;\n",
              "    }\n",
              "</style>\n",
              "<table border=\"1\" class=\"dataframe\">\n",
              "  <thead>\n",
              "    <tr style=\"text-align: right;\">\n",
              "      <th></th>\n",
              "      <th>Regiao - Sigla</th>\n",
              "      <th>Estado - Sigla</th>\n",
              "      <th>Municipio</th>\n",
              "      <th>Revenda</th>\n",
              "      <th>CNPJ da Revenda</th>\n",
              "      <th>Nome da Rua</th>\n",
              "      <th>Numero Rua</th>\n",
              "      <th>Complemento</th>\n",
              "      <th>Bairro</th>\n",
              "      <th>Cep</th>\n",
              "      <th>Produto</th>\n",
              "      <th>Data da Coleta</th>\n",
              "      <th>Valor de Venda</th>\n",
              "      <th>Valor de Compra</th>\n",
              "      <th>Unidade de Medida</th>\n",
              "      <th>Bandeira</th>\n",
              "      <th>Ativo</th>\n",
              "    </tr>\n",
              "  </thead>\n",
              "  <tbody>\n",
              "    <tr>\n",
              "      <th>0</th>\n",
              "      <td>NE</td>\n",
              "      <td>AL</td>\n",
              "      <td>ARAPIRACA</td>\n",
              "      <td>POSTO ARAPIRACA LTDA</td>\n",
              "      <td>12.451.076/0004-65</td>\n",
              "      <td>RODOVIA AL 220</td>\n",
              "      <td>105</td>\n",
              "      <td>KM 68</td>\n",
              "      <td>CANAFISTULA</td>\n",
              "      <td>57302-605</td>\n",
              "      <td>GASOLINA</td>\n",
              "      <td>2021-11-01</td>\n",
              "      <td>6.799</td>\n",
              "      <td>NaN</td>\n",
              "      <td>R$ / litro</td>\n",
              "      <td>VIBRA ENERGIA</td>\n",
              "      <td>True</td>\n",
              "    </tr>\n",
              "    <tr>\n",
              "      <th>1</th>\n",
              "      <td>NE</td>\n",
              "      <td>AL</td>\n",
              "      <td>ARAPIRACA</td>\n",
              "      <td>POSTO ARAPIRACA LTDA</td>\n",
              "      <td>12.451.076/0004-65</td>\n",
              "      <td>RODOVIA AL 220</td>\n",
              "      <td>105</td>\n",
              "      <td>KM 68</td>\n",
              "      <td>CANAFISTULA</td>\n",
              "      <td>57302-605</td>\n",
              "      <td>ETANOL</td>\n",
              "      <td>2021-11-01</td>\n",
              "      <td>5.299</td>\n",
              "      <td>NaN</td>\n",
              "      <td>R$ / litro</td>\n",
              "      <td>VIBRA ENERGIA</td>\n",
              "      <td>True</td>\n",
              "    </tr>\n",
              "    <tr>\n",
              "      <th>2</th>\n",
              "      <td>NE</td>\n",
              "      <td>AL</td>\n",
              "      <td>ARAPIRACA</td>\n",
              "      <td>POSTO ARAPIRACA LTDA</td>\n",
              "      <td>12.451.076/0004-65</td>\n",
              "      <td>RODOVIA AL 220</td>\n",
              "      <td>105</td>\n",
              "      <td>KM 68</td>\n",
              "      <td>CANAFISTULA</td>\n",
              "      <td>57302-605</td>\n",
              "      <td>DIESEL</td>\n",
              "      <td>2021-11-01</td>\n",
              "      <td>5.549</td>\n",
              "      <td>NaN</td>\n",
              "      <td>R$ / litro</td>\n",
              "      <td>VIBRA ENERGIA</td>\n",
              "      <td>True</td>\n",
              "    </tr>\n",
              "    <tr>\n",
              "      <th>3</th>\n",
              "      <td>NE</td>\n",
              "      <td>AL</td>\n",
              "      <td>ARAPIRACA</td>\n",
              "      <td>POSTO ARAPIRACA LTDA</td>\n",
              "      <td>12.451.076/0004-65</td>\n",
              "      <td>RODOVIA AL 220</td>\n",
              "      <td>105</td>\n",
              "      <td>KM 68</td>\n",
              "      <td>CANAFISTULA</td>\n",
              "      <td>57302-605</td>\n",
              "      <td>GASOLINA ADITIVADA</td>\n",
              "      <td>2021-11-01</td>\n",
              "      <td>6.899</td>\n",
              "      <td>NaN</td>\n",
              "      <td>R$ / litro</td>\n",
              "      <td>VIBRA ENERGIA</td>\n",
              "      <td>True</td>\n",
              "    </tr>\n",
              "    <tr>\n",
              "      <th>4</th>\n",
              "      <td>NE</td>\n",
              "      <td>AL</td>\n",
              "      <td>ARAPIRACA</td>\n",
              "      <td>POSTO ARAPIRACA LTDA</td>\n",
              "      <td>12.451.076/0004-65</td>\n",
              "      <td>RODOVIA AL 220</td>\n",
              "      <td>105</td>\n",
              "      <td>KM 68</td>\n",
              "      <td>CANAFISTULA</td>\n",
              "      <td>57302-605</td>\n",
              "      <td>DIESEL S10</td>\n",
              "      <td>2021-11-01</td>\n",
              "      <td>5.649</td>\n",
              "      <td>NaN</td>\n",
              "      <td>R$ / litro</td>\n",
              "      <td>VIBRA ENERGIA</td>\n",
              "      <td>True</td>\n",
              "    </tr>\n",
              "    <tr>\n",
              "      <th>5</th>\n",
              "      <td>NE</td>\n",
              "      <td>AL</td>\n",
              "      <td>DELMIRO GOUVEIA</td>\n",
              "      <td>AUTO POSTO FREITAS &amp; MAIA LTDA</td>\n",
              "      <td>12.436.978/0001-80</td>\n",
              "      <td>RUA FLORIANO PEIXOTO</td>\n",
              "      <td>247</td>\n",
              "      <td>NaN</td>\n",
              "      <td>CENTRO</td>\n",
              "      <td>57480-000</td>\n",
              "      <td>GASOLINA</td>\n",
              "      <td>2021-11-01</td>\n",
              "      <td>7.198</td>\n",
              "      <td>NaN</td>\n",
              "      <td>R$ / litro</td>\n",
              "      <td>VIBRA ENERGIA</td>\n",
              "      <td>True</td>\n",
              "    </tr>\n",
              "    <tr>\n",
              "      <th>6</th>\n",
              "      <td>NE</td>\n",
              "      <td>AL</td>\n",
              "      <td>DELMIRO GOUVEIA</td>\n",
              "      <td>AUTO POSTO FREITAS &amp; MAIA LTDA</td>\n",
              "      <td>12.436.978/0001-80</td>\n",
              "      <td>RUA FLORIANO PEIXOTO</td>\n",
              "      <td>247</td>\n",
              "      <td>NaN</td>\n",
              "      <td>CENTRO</td>\n",
              "      <td>57480-000</td>\n",
              "      <td>ETANOL</td>\n",
              "      <td>2021-11-01</td>\n",
              "      <td>5.982</td>\n",
              "      <td>NaN</td>\n",
              "      <td>R$ / litro</td>\n",
              "      <td>VIBRA ENERGIA</td>\n",
              "      <td>True</td>\n",
              "    </tr>\n",
              "    <tr>\n",
              "      <th>7</th>\n",
              "      <td>NE</td>\n",
              "      <td>AL</td>\n",
              "      <td>DELMIRO GOUVEIA</td>\n",
              "      <td>AUTO POSTO FREITAS &amp; MAIA LTDA</td>\n",
              "      <td>12.436.978/0001-80</td>\n",
              "      <td>RUA FLORIANO PEIXOTO</td>\n",
              "      <td>247</td>\n",
              "      <td>NaN</td>\n",
              "      <td>CENTRO</td>\n",
              "      <td>57480-000</td>\n",
              "      <td>DIESEL</td>\n",
              "      <td>2021-11-01</td>\n",
              "      <td>5.974</td>\n",
              "      <td>NaN</td>\n",
              "      <td>R$ / litro</td>\n",
              "      <td>VIBRA ENERGIA</td>\n",
              "      <td>True</td>\n",
              "    </tr>\n",
              "    <tr>\n",
              "      <th>8</th>\n",
              "      <td>NE</td>\n",
              "      <td>AL</td>\n",
              "      <td>DELMIRO GOUVEIA</td>\n",
              "      <td>AUTO POSTO FREITAS &amp; MAIA LTDA</td>\n",
              "      <td>12.436.978/0001-80</td>\n",
              "      <td>RUA FLORIANO PEIXOTO</td>\n",
              "      <td>247</td>\n",
              "      <td>NaN</td>\n",
              "      <td>CENTRO</td>\n",
              "      <td>57480-000</td>\n",
              "      <td>GASOLINA ADITIVADA</td>\n",
              "      <td>2021-11-01</td>\n",
              "      <td>7.208</td>\n",
              "      <td>NaN</td>\n",
              "      <td>R$ / litro</td>\n",
              "      <td>VIBRA ENERGIA</td>\n",
              "      <td>True</td>\n",
              "    </tr>\n",
              "    <tr>\n",
              "      <th>9</th>\n",
              "      <td>NE</td>\n",
              "      <td>AL</td>\n",
              "      <td>DELMIRO GOUVEIA</td>\n",
              "      <td>AUTO POSTO FREITAS &amp; MAIA LTDA</td>\n",
              "      <td>12.436.978/0001-80</td>\n",
              "      <td>RUA FLORIANO PEIXOTO</td>\n",
              "      <td>247</td>\n",
              "      <td>NaN</td>\n",
              "      <td>CENTRO</td>\n",
              "      <td>57480-000</td>\n",
              "      <td>DIESEL S10</td>\n",
              "      <td>2021-11-01</td>\n",
              "      <td>5.983</td>\n",
              "      <td>NaN</td>\n",
              "      <td>R$ / litro</td>\n",
              "      <td>VIBRA ENERGIA</td>\n",
              "      <td>True</td>\n",
              "    </tr>\n",
              "    <tr>\n",
              "      <th>10</th>\n",
              "      <td>NE</td>\n",
              "      <td>AL</td>\n",
              "      <td>DELMIRO GOUVEIA</td>\n",
              "      <td>AUTO POSTO DA PEDRA LTDA</td>\n",
              "      <td>05.518.639/0001-87</td>\n",
              "      <td>RUA FLORIANO PEIXOTO</td>\n",
              "      <td>281</td>\n",
              "      <td>NaN</td>\n",
              "      <td>CENTRO</td>\n",
              "      <td>57480-000</td>\n",
              "      <td>GASOLINA</td>\n",
              "      <td>2021-11-01</td>\n",
              "      <td>7.197</td>\n",
              "      <td>NaN</td>\n",
              "      <td>R$ / litro</td>\n",
              "      <td>BRANCA</td>\n",
              "      <td>True</td>\n",
              "    </tr>\n",
              "    <tr>\n",
              "      <th>11</th>\n",
              "      <td>NE</td>\n",
              "      <td>AL</td>\n",
              "      <td>DELMIRO GOUVEIA</td>\n",
              "      <td>AUTO POSTO DA PEDRA LTDA</td>\n",
              "      <td>05.518.639/0001-87</td>\n",
              "      <td>RUA FLORIANO PEIXOTO</td>\n",
              "      <td>281</td>\n",
              "      <td>NaN</td>\n",
              "      <td>CENTRO</td>\n",
              "      <td>57480-000</td>\n",
              "      <td>ETANOL</td>\n",
              "      <td>2021-11-01</td>\n",
              "      <td>5.987</td>\n",
              "      <td>NaN</td>\n",
              "      <td>R$ / litro</td>\n",
              "      <td>BRANCA</td>\n",
              "      <td>True</td>\n",
              "    </tr>\n",
              "    <tr>\n",
              "      <th>12</th>\n",
              "      <td>NE</td>\n",
              "      <td>AL</td>\n",
              "      <td>DELMIRO GOUVEIA</td>\n",
              "      <td>AUTO POSTO DA PEDRA LTDA</td>\n",
              "      <td>05.518.639/0001-87</td>\n",
              "      <td>RUA FLORIANO PEIXOTO</td>\n",
              "      <td>281</td>\n",
              "      <td>NaN</td>\n",
              "      <td>CENTRO</td>\n",
              "      <td>57480-000</td>\n",
              "      <td>DIESEL</td>\n",
              "      <td>2021-11-01</td>\n",
              "      <td>5.978</td>\n",
              "      <td>NaN</td>\n",
              "      <td>R$ / litro</td>\n",
              "      <td>BRANCA</td>\n",
              "      <td>True</td>\n",
              "    </tr>\n",
              "    <tr>\n",
              "      <th>13</th>\n",
              "      <td>NE</td>\n",
              "      <td>AL</td>\n",
              "      <td>DELMIRO GOUVEIA</td>\n",
              "      <td>AUTO POSTO DA PEDRA LTDA</td>\n",
              "      <td>05.518.639/0001-87</td>\n",
              "      <td>RUA FLORIANO PEIXOTO</td>\n",
              "      <td>281</td>\n",
              "      <td>NaN</td>\n",
              "      <td>CENTRO</td>\n",
              "      <td>57480-000</td>\n",
              "      <td>DIESEL S10</td>\n",
              "      <td>2021-11-01</td>\n",
              "      <td>5.989</td>\n",
              "      <td>NaN</td>\n",
              "      <td>R$ / litro</td>\n",
              "      <td>BRANCA</td>\n",
              "      <td>True</td>\n",
              "    </tr>\n",
              "    <tr>\n",
              "      <th>14</th>\n",
              "      <td>NE</td>\n",
              "      <td>AL</td>\n",
              "      <td>DELMIRO GOUVEIA</td>\n",
              "      <td>COMERCIO DE COMBUSTIVEIS NENZITA LTDA</td>\n",
              "      <td>04.431.113/0001-00</td>\n",
              "      <td>AVENIDA CAXANGA</td>\n",
              "      <td>126</td>\n",
              "      <td>NaN</td>\n",
              "      <td>PEDRA VELHA</td>\n",
              "      <td>57480-000</td>\n",
              "      <td>GASOLINA</td>\n",
              "      <td>2021-11-01</td>\n",
              "      <td>7.175</td>\n",
              "      <td>NaN</td>\n",
              "      <td>R$ / litro</td>\n",
              "      <td>BRANCA</td>\n",
              "      <td>True</td>\n",
              "    </tr>\n",
              "  </tbody>\n",
              "</table>\n",
              "</div>\n",
              "      <button class=\"colab-df-convert\" onclick=\"convertToInteractive('df-5a12d8c0-955d-440b-a338-2ddf0b6e55dd')\"\n",
              "              title=\"Convert this dataframe to an interactive table.\"\n",
              "              style=\"display:none;\">\n",
              "        \n",
              "  <svg xmlns=\"http://www.w3.org/2000/svg\" height=\"24px\"viewBox=\"0 0 24 24\"\n",
              "       width=\"24px\">\n",
              "    <path d=\"M0 0h24v24H0V0z\" fill=\"none\"/>\n",
              "    <path d=\"M18.56 5.44l.94 2.06.94-2.06 2.06-.94-2.06-.94-.94-2.06-.94 2.06-2.06.94zm-11 1L8.5 8.5l.94-2.06 2.06-.94-2.06-.94L8.5 2.5l-.94 2.06-2.06.94zm10 10l.94 2.06.94-2.06 2.06-.94-2.06-.94-.94-2.06-.94 2.06-2.06.94z\"/><path d=\"M17.41 7.96l-1.37-1.37c-.4-.4-.92-.59-1.43-.59-.52 0-1.04.2-1.43.59L10.3 9.45l-7.72 7.72c-.78.78-.78 2.05 0 2.83L4 21.41c.39.39.9.59 1.41.59.51 0 1.02-.2 1.41-.59l7.78-7.78 2.81-2.81c.8-.78.8-2.07 0-2.86zM5.41 20L4 18.59l7.72-7.72 1.47 1.35L5.41 20z\"/>\n",
              "  </svg>\n",
              "      </button>\n",
              "      \n",
              "  <style>\n",
              "    .colab-df-container {\n",
              "      display:flex;\n",
              "      flex-wrap:wrap;\n",
              "      gap: 12px;\n",
              "    }\n",
              "\n",
              "    .colab-df-convert {\n",
              "      background-color: #E8F0FE;\n",
              "      border: none;\n",
              "      border-radius: 50%;\n",
              "      cursor: pointer;\n",
              "      display: none;\n",
              "      fill: #1967D2;\n",
              "      height: 32px;\n",
              "      padding: 0 0 0 0;\n",
              "      width: 32px;\n",
              "    }\n",
              "\n",
              "    .colab-df-convert:hover {\n",
              "      background-color: #E2EBFA;\n",
              "      box-shadow: 0px 1px 2px rgba(60, 64, 67, 0.3), 0px 1px 3px 1px rgba(60, 64, 67, 0.15);\n",
              "      fill: #174EA6;\n",
              "    }\n",
              "\n",
              "    [theme=dark] .colab-df-convert {\n",
              "      background-color: #3B4455;\n",
              "      fill: #D2E3FC;\n",
              "    }\n",
              "\n",
              "    [theme=dark] .colab-df-convert:hover {\n",
              "      background-color: #434B5C;\n",
              "      box-shadow: 0px 1px 3px 1px rgba(0, 0, 0, 0.15);\n",
              "      filter: drop-shadow(0px 1px 2px rgba(0, 0, 0, 0.3));\n",
              "      fill: #FFFFFF;\n",
              "    }\n",
              "  </style>\n",
              "\n",
              "      <script>\n",
              "        const buttonEl =\n",
              "          document.querySelector('#df-5a12d8c0-955d-440b-a338-2ddf0b6e55dd button.colab-df-convert');\n",
              "        buttonEl.style.display =\n",
              "          google.colab.kernel.accessAllowed ? 'block' : 'none';\n",
              "\n",
              "        async function convertToInteractive(key) {\n",
              "          const element = document.querySelector('#df-5a12d8c0-955d-440b-a338-2ddf0b6e55dd');\n",
              "          const dataTable =\n",
              "            await google.colab.kernel.invokeFunction('convertToInteractive',\n",
              "                                                     [key], {});\n",
              "          if (!dataTable) return;\n",
              "\n",
              "          const docLinkHtml = 'Like what you see? Visit the ' +\n",
              "            '<a target=\"_blank\" href=https://colab.research.google.com/notebooks/data_table.ipynb>data table notebook</a>'\n",
              "            + ' to learn more about interactive tables.';\n",
              "          element.innerHTML = '';\n",
              "          dataTable['output_type'] = 'display_data';\n",
              "          await google.colab.output.renderOutput(dataTable, element);\n",
              "          const docLink = document.createElement('div');\n",
              "          docLink.innerHTML = docLinkHtml;\n",
              "          element.appendChild(docLink);\n",
              "        }\n",
              "      </script>\n",
              "    </div>\n",
              "  </div>\n",
              "  "
            ]
          },
          "metadata": {}
        }
      ]
    },
    {
      "cell_type": "code",
      "source": [
        "# Comandos Dataframe.shape e Dataframe.describe()\n",
        "\n",
        "display(combustiveis_df.shape)\n",
        "display(combustiveis_df.shape[0])\n",
        "\n",
        "# O shape mostra o número de linhas e colunas (linhas, colunas)\n"
      ],
      "metadata": {
        "id": "peXSopw0HafB"
      },
      "execution_count": null,
      "outputs": []
    },
    {
      "cell_type": "code",
      "source": [
        "#Quais as colunas e quais informações cada uma tem...\n",
        "print(combustiveis_df.info())"
      ],
      "metadata": {
        "id": "FVOyifGTKrAz"
      },
      "execution_count": null,
      "outputs": []
    },
    {
      "cell_type": "code",
      "source": [
        "#describe() mostra as estatísticas \"mais básicas\" que a gente precisa\n",
        "\n",
        "print(combustiveis_df.describe())\n"
      ],
      "metadata": {
        "id": "OpjbZz5XJ7mO"
      },
      "execution_count": null,
      "outputs": []
    },
    {
      "cell_type": "code",
      "source": [
        "# Filtrar apenas por uma coluna\n",
        "display(combustiveis_df['Revenda'].head(6))"
      ],
      "metadata": {
        "id": "VytrlJ07YVZH"
      },
      "execution_count": null,
      "outputs": []
    },
    {
      "cell_type": "code",
      "source": [
        "# Aqui criamos um novo dataframe com as colunas que queremos\n",
        "ca_df= combustiveis_df[['Revenda','Municipio','Produto','Valor de Venda']]\n",
        "display(ca_df)"
      ],
      "metadata": {
        "id": "Pt3rcaslZz6_"
      },
      "execution_count": null,
      "outputs": []
    },
    {
      "cell_type": "code",
      "source": [
        "#Exibe a quarta linha\n",
        "display(ca_df.loc[3])"
      ],
      "metadata": {
        "id": "K32Bwb1zb9XN"
      },
      "execution_count": null,
      "outputs": []
    },
    {
      "cell_type": "code",
      "source": [
        "#exibir da décima linha até a vigésima linha\n",
        "display(ca_df.loc[9:19])"
      ],
      "metadata": {
        "id": "IIEgOtKodV2o"
      },
      "execution_count": null,
      "outputs": []
    },
    {
      "cell_type": "code",
      "source": [
        "#criar uma dataframe gas_df contendo apenas as 4 colunas(Revenda, Municipio, Produto, Valor de Venda)\n",
        "gas_df= ca_df.loc[ca_df['Produto'] =='GASOLINA']\n",
        "display(gas_df)\n"
      ],
      "metadata": {
        "id": "wUFrkQbdeM0M"
      },
      "execution_count": null,
      "outputs": []
    },
    {
      "cell_type": "code",
      "source": [
        "display(gas_df.describe())\n",
        "\n",
        "display(gas_df['Valor de Venda'].max())"
      ],
      "metadata": {
        "id": "WIZnw2H_f-vJ"
      },
      "execution_count": null,
      "outputs": []
    },
    {
      "cell_type": "code",
      "source": [
        "#Se eu quiser saber qual é o posto e o munícipio com a gasolina mais cara\n",
        "display(gas_df[['Revenda','Municipio','Valor de Venda']].max())"
      ],
      "metadata": {
        "id": "-v6eEZSkhOBr"
      },
      "execution_count": null,
      "outputs": []
    },
    {
      "cell_type": "code",
      "source": [
        "#DataFrame.loc[] com múltiplas condições para filtragem\n",
        "#Quais são os preços e postos que vendem ETANOL na minha cidade (ITABERABA)... Não tem minha cidade nos dado... que abalo kkkk, cidade mais próxima (FEIRA DE SANTANA)\n",
        "etanol_ita_df = ca_df.loc[(ca_df['Produto'] == 'ETANOL') & \n",
        "                          (ca_df['Municipio'] == 'FEIRA DE SANTANA')]\n",
        "\n",
        "#DATAFRAME.sort_value(by='xxxxxx') serve para ordenar o valor do menor para o maior\n",
        "\n",
        "display(etanol_ita_df.sort_values(by='Valor de Venda'))"
      ],
      "metadata": {
        "id": "0EJRvo3NmPJu"
      },
      "execution_count": null,
      "outputs": []
    },
    {
      "cell_type": "code",
      "source": [
        "# Qual a média de preços dos combustíveis GASOLINA e GASOLINA ADITIVADA do Bairro CENTRO em FEIRA DE SANTANA?\n",
        "display(combustiveis_df.loc[(combustiveis_df['Bairro'] == 'CENTRO') & \n",
        "                            (combustiveis_df['Municipio'] == 'FEIRA DE SANTANA') & \n",
        "                            ((combustiveis_df['Produto'] == 'GASOLINA') | \n",
        "                            (combustiveis_df['Produto'] == 'GASOLINA ADITIVADA')), \n",
        "                            ['Valor de Venda']].mean())"
      ],
      "metadata": {
        "id": "ZYTVkin5qYZQ"
      },
      "execution_count": null,
      "outputs": []
    },
    {
      "cell_type": "code",
      "source": [
        "# Qual a média de preços dos combustíveis na BAHIA?\n",
        "display(combustiveis_df.loc[(combustiveis_df['Estado - Sigla'] == 'BA'),['Valor de Venda']].mean())\n",
        "\n"
      ],
      "metadata": {
        "id": "wG1z70yS2wdk"
      },
      "execution_count": null,
      "outputs": []
    },
    {
      "cell_type": "code",
      "source": [
        "# Qual a média de preços dos combustíveis GASOLINA e GASOLINA ADITIVADA do Bairro HUMILDES em FEIRA DE SANTANA?\n",
        "display(combustiveis_df.loc[(combustiveis_df['Bairro'] == 'HUMILDES') & \n",
        "                            (combustiveis_df['Municipio'] == 'FEIRA DE SANTANA') & \n",
        "                            (combustiveis_df['Produto'].isin([\"GASOLINA\", \"GASOLINA ADITIVADA\"])), \n",
        "                            ['Valor de Venda']].mean())\n",
        "#Com o DATAFRAME.isin economiza linhas e deixa mais claro e mais fácil a leitura do código"
      ],
      "metadata": {
        "id": "ZaA_uktPvRn6"
      },
      "execution_count": null,
      "outputs": []
    },
    {
      "cell_type": "code",
      "source": [
        "# Como mostrar média de valor de venda POR COMBUSTÍVEL Brasil todo?\n",
        "media_brasil_df = ca_df[['Produto', 'Valor de Venda']].groupby(by='Produto').mean().round(2)\n",
        "\n",
        "display(media_brasil_df)"
      ],
      "metadata": {
        "id": "gpuzehf5v54O"
      },
      "execution_count": null,
      "outputs": []
    },
    {
      "cell_type": "code",
      "source": [
        "#Media por estado\n",
        "\n",
        "media_brasil_df = ca_df[['Municipio', 'Valor de Venda']].groupby(by='Municipio').mean().round(2)\n",
        "\n",
        "display(media_brasil_df)"
      ],
      "metadata": {
        "id": "9_8PjYmL5iN7"
      },
      "execution_count": null,
      "outputs": []
    },
    {
      "cell_type": "code",
      "source": [
        "# Quero adicionar uma coluna de valor booleano no combustiveis_df chamada \"Ativo\" que, por \n",
        "# padrão, vai ser True para TODAS as linhas\n",
        "\n",
        "combustiveis_df['Ativo'] = True\n",
        "\n",
        "print(combustiveis_df.info())\n",
        "\n",
        "display(combustiveis_df.head())"
      ],
      "metadata": {
        "id": "h_e69fzVwHfN"
      },
      "execution_count": null,
      "outputs": []
    },
    {
      "cell_type": "code",
      "source": [
        "#E se eu quiser uma coluna nova chamada \"OBS\"\n",
        "# E que preencha automaticamente \"MELHOR CIDADE\"\n",
        "# quando o Municipio for FEIRA DE SANTANA, BA...\n",
        "#combustiveis_df['OBS'] = \"MELHOR CIDADE\" if combustiveis_df['Municipio'] == \"FEIRA DE SANTANA\" else \"\""
      ],
      "metadata": {
        "id": "dkd8pA_w6pAy"
      },
      "execution_count": null,
      "outputs": []
    },
    {
      "cell_type": "code",
      "source": [
        "# Exportar para Excel o dataframe com etanol em Feira de Santana....\n",
        "\n",
        "etanol_ita_df.to_excel('etanol_ita.xlsx', sheet_name='Etanol em Feira de Santana')"
      ],
      "metadata": {
        "id": "7ENOXEM32bTA"
      },
      "execution_count": 46,
      "outputs": []
    }
  ]
}