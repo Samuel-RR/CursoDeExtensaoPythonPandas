{
  "nbformat": 4,
  "nbformat_minor": 0,
  "metadata": {
    "colab": {
      "provenance": [],
      "authorship_tag": "ABX9TyPqJQc2VBlthv+aR4ArYWEp",
      "include_colab_link": true
    },
    "kernelspec": {
      "name": "python3",
      "display_name": "Python 3"
    },
    "language_info": {
      "name": "python"
    }
  },
  "cells": [
    {
      "cell_type": "markdown",
      "metadata": {
        "id": "view-in-github",
        "colab_type": "text"
      },
      "source": [
        "<a href=\"https://colab.research.google.com/github/Samuel-RR/CursoDeExtensaoPythonPandas/blob/main/Segundo_exemplo_em_Python_Pandas.ipynb\" target=\"_parent\"><img src=\"https://colab.research.google.com/assets/colab-badge.svg\" alt=\"Open In Colab\"/></a>"
      ]
    },
    {
      "cell_type": "code",
      "source": [
        "# Importando biblioteca pandas no Python\n",
        "import pandas as pd"
      ],
      "metadata": {
        "id": "K4vfqpu_UMgv"
      },
      "execution_count": 1,
      "outputs": []
    },
    {
      "cell_type": "code",
      "execution_count": null,
      "metadata": {
        "id": "razfMqhTTYlT"
      },
      "outputs": [],
      "source": [
        "combustiveis_df = pd.read_excel(\"ca-2021-02.xlsx\")\n",
        "display(combustiveis_df.head())"
      ]
    },
    {
      "cell_type": "code",
      "source": [
        "#Inserção simples de dado\n",
        "combustiveis_df['Ativo'] = True\n",
        "\n",
        "display(combustiveis_df.head())"
      ],
      "metadata": {
        "id": "5zih8FqsUhAO"
      },
      "execution_count": null,
      "outputs": []
    },
    {
      "cell_type": "code",
      "source": [
        "#E se eu quiser uma coluna nova chamada \"OBS\"\n",
        "# E que preencha automaticamente \"MELHOR CIDADE\"\n",
        "# quando o Municipio for FEIRA DE SANTANA, BA...\n",
        "#combustiveis_df['OBS'] = \"MELHOR CIDADE\" if combustiveis_df['Municipio'] == \"FEIRA DE SANTANA\" else \"\"\n",
        "# Criar uma coluna \"Obs\" que tenha nela escrito \"MELHOR CIDADE\" quando a coluna Municipio for igual a SAO PAULO\n",
        "combustiveis_df['Obs'] = [\"MELHOR CIDADE\" if municipio == 'SAO PAULO' else None for municipio in combustiveis_df['Municipio']]\n",
        "display(combustiveis_df.loc[combustiveis_df['Municipio'].isin(['SAO PAULO','INDAIATUBA', 'CAMPINAS', 'SALTO']), ['Municipio', 'Obs']])"
      ],
      "metadata": {
        "id": "_qO3oS8xVBsh"
      },
      "execution_count": null,
      "outputs": []
    },
    {
      "cell_type": "code",
      "source": [
        "# (por Leandro Rodrigues)\n",
        "# como preencher uma coluna 'Valor de Venda - Status' que verifica o seguinte:\n",
        "# se o valor de venda for maior que 6,5 reais, ele fala que tá Caro..caso contrário, está barato\n",
        "import numpy as np\n",
        "\n",
        "combustiveis_df['Status do Valor de Venda'] = np.where(combustiveis_df['Valor de Venda'] > 6.5, 'Caro', 'Barato')\n",
        "display(combustiveis_df[['Revenda', 'Valor de Venda', 'Status do Valor de Venda']])"
      ],
      "metadata": {
        "id": "t-bprUK1ZA_j"
      },
      "execution_count": null,
      "outputs": []
    },
    {
      "cell_type": "code",
      "source": [
        "# Calcular postos de gasolina por habitante temos na amostragem de \n",
        "# combustiveis nov/2021\n",
        "\n",
        "num_habitantes_df = pd.read_csv(\"ibge_num_habitantes_estimado.csv\", sep=\";\")\n",
        "display(num_habitantes_df)"
      ],
      "metadata": {
        "id": "cHpQSCjieLQ5"
      },
      "execution_count": null,
      "outputs": []
    },
    {
      "cell_type": "code",
      "source": [
        "# Calcular postos de gasolina por habitante temos na amostragem de \n",
        "# combustiveis nov/2021\n",
        "\n",
        "num_habitantes_df = pd.read_csv(\"ibge_num_habitantes_estimado.csv\", sep=\";\")\n",
        "num_habitantes_df.rename(columns={\"Estado\":\"Estado - Sigla\"}, inplace=True)\n",
        "display(num_habitantes_df)"
      ],
      "metadata": {
        "id": "qIvH8tpsg_6o"
      },
      "execution_count": null,
      "outputs": []
    },
    {
      "cell_type": "code",
      "source": [
        "# Faz um MERGE dos dois dataframes\n",
        "colunas = ['Municipio', 'Estado - Sigla']\n",
        "merge_df = combustiveis_df.merge(num_habitantes_df, how=\"inner\", on=colunas)\n",
        "display(merge_df)\n",
        "print(merge_df.info())"
      ],
      "metadata": {
        "id": "Y9KLb8KmnxDf"
      },
      "execution_count": null,
      "outputs": []
    },
    {
      "cell_type": "code",
      "source": [
        "#Destruir coluna completamente vazia (todas as linhas são nulas)\n",
        "merge_df.dropna(axis='columns', inplace=True)\n",
        "print(merge_df.info())"
      ],
      "metadata": {
        "id": "bUA7_206r2ru"
      },
      "execution_count": null,
      "outputs": []
    },
    {
      "cell_type": "code",
      "source": [
        "colunas=['Regiao - Sigla', 'Nome da Rua', 'Numero Rua', \n",
        "         'Bairro', 'Cep', 'Produto', 'Data da Coleta', 'Valor de Venda',\n",
        "         'Unidade de Medida', 'Bandeira', 'Ativo', 'Status do Valor de Venda']\n",
        "merge_df.drop(labels=colunas, axis=1, inplace=True)\n",
        "print(merge_df.info())"
      ],
      "metadata": {
        "id": "grrQQOvrtj0J"
      },
      "execution_count": null,
      "outputs": []
    },
    {
      "cell_type": "code",
      "source": [
        "# Remover a linhas duplicadas\n",
        "merge_df.drop_duplicates(inplace=True)\n",
        "display(merge_df.head(100))"
      ],
      "metadata": {
        "id": "AVFTkmcvu6Q8"
      },
      "execution_count": null,
      "outputs": []
    },
    {
      "cell_type": "code",
      "source": [
        "#Agrupar e contar quantos postos tem na cidade..\n",
        "postos_por_municipio_df = merge_df.groupby(by=['Estado - Sigla', 'Municipio', 'NumHabitantes2021']).count()\n",
        "postos_por_municipio_df.reset_index(inplace=True)\n",
        "postos_por_municipio_df.drop('CNPJ da Revenda', axis=1, inplace=True)\n",
        "postos_por_municipio_df.rename(columns={\"Revenda\": \"NumPostos\"}, inplace=True)\n",
        "\n",
        "postos_por_municipio_df['HabitantePorPosto'] =  postos_por_municipio_df['NumHabitantes2021'] / postos_por_municipio_df['NumPostos']\n",
        "#display(postos_por_municipio_df.info())\n",
        "display(postos_por_municipio_df.round(2))"
      ],
      "metadata": {
        "id": "8-tAESw81NVr"
      },
      "execution_count": null,
      "outputs": []
    },
    {
      "cell_type": "code",
      "source": [
        "import matplotlib.pyplot as plt\n",
        "plt.hist(combustiveis_df['Valor de Venda'])\n",
        "\n",
        "plt.title(\"Valor médios dos combustíveis Nov/2021\")\n",
        "\n",
        "plt.xlabel(\"Preço (em reais)\")\n",
        "\n",
        "plt.ylabel(\"Quantidade de Coletas\")\n",
        "\n",
        "plt.axvline(combustiveis_df['Valor de Venda'].mean(), color='red', linestyle='dashed', linewidth=1.5)"
      ],
      "metadata": {
        "colab": {
          "base_uri": "https://localhost:8080/",
          "height": 312
        },
        "id": "3oh2eZEOf7FD",
        "outputId": "2e16d895-cf5b-4c11-9f15-0c42a6147c4c"
      },
      "execution_count": 30,
      "outputs": [
        {
          "output_type": "execute_result",
          "data": {
            "text/plain": [
              "<matplotlib.lines.Line2D at 0x7fd94c16b0d0>"
            ]
          },
          "metadata": {},
          "execution_count": 30
        },
        {
          "output_type": "display_data",
          "data": {
            "text/plain": [
              "<Figure size 432x288 with 1 Axes>"
            ],
            "image/png": "[encoded data removed]"
          },
          "metadata": {
            "needs_background": "light"
          }
        }
      ]
    },
    {
      "cell_type": "code",
      "source": [
        "c_mean = combustiveis_df['Valor de Venda'].groupby(by=combustiveis_df['Produto']).mean()\n",
        "display(c_mean)"
      ],
      "metadata": {
        "colab": {
          "base_uri": "https://localhost:8080/",
          "height": 156
        },
        "id": "twrcP6-Co1iN",
        "outputId": "25ccc258-9fea-426b-88ee-c1783e1499e7"
      },
      "execution_count": 31,
      "outputs": [
        {
          "output_type": "display_data",
          "data": {
            "text/plain": [
              "Produto\n",
              "DIESEL                5.375682\n",
              "DIESEL S10            5.454901\n",
              "ETANOL                5.456115\n",
              "GASOLINA              6.708741\n",
              "GASOLINA ADITIVADA    6.860422\n",
              "GNV                   4.392935\n",
              "Name: Valor de Venda, dtype: float64"
            ]
          },
          "metadata": {}
        }
      ]
    },
    {
      "cell_type": "code",
      "source": [
        "import seaborn as sns\n",
        "\n",
        "plt.figure(figsize=(10, 5))\n",
        "\n",
        "c_mean_grafico = c_mean.plot(\n",
        "    kind=\"barh\",\n",
        "    title= \"Média Preço por Combustiveis\",\n",
        "    xlabel=\"Tipo de Combustivel\",\n",
        "    ylabel=\"Preço reais/litro\",\n",
        "    color=\"blue\",\n",
        "    alpha = 0.4,\n",
        ")\n",
        "\n",
        "c_mean_grafico.set_ylabel(\"Tipo de Combustivel\")\n",
        "c_mean_grafico.set_xlabel(\"Preço reais/litro\")\n",
        "\n",
        "plt.grid(axis=\"x\")\n",
        "\n",
        "sns.despine()\n",
        "\n",
        "plt.show()\n"
      ],
      "metadata": {
        "colab": {
          "base_uri": "https://localhost:8080/",
          "height": 315
        },
        "id": "8F921yUio1aC",
        "outputId": "a746818e-bd67-44c1-a788-cdc3cda2b7ea"
      },
      "execution_count": 49,
      "outputs": [
        {
          "output_type": "display_data",
          "data": {
            "text/plain": [
              "<Figure size 720x360 with 1 Axes>"
            ],
            "image/png": "[encoded data removed]"
          },
          "metadata": {
            "needs_background": "light"
          }
        }
      ]
    },
    {
      "cell_type": "code",
      "source": [
        "from openpyxl import load_workbook\n",
        "from openpyxl.styles import PatternFill, Font, Color, Alignment"
      ],
      "metadata": {
        "id": "XwcD32kCzVfu"
      },
      "execution_count": 50,
      "outputs": []
    },
    {
      "cell_type": "code",
      "source": [
        "#c_mean.reset_index(inplace=True)\n",
        "display(c_mean)\n",
        "\n",
        "excel =\"por_litro.xlsx\"\n",
        "c_mean.to_excel(excel,\"Sumário\")"
      ],
      "metadata": {
        "colab": {
          "base_uri": "https://localhost:8080/",
          "height": 156
        },
        "id": "5URR9l2O0i8o",
        "outputId": "6d03abce-ec41-430b-cd8f-9324c5541da2"
      },
      "execution_count": 52,
      "outputs": [
        {
          "output_type": "display_data",
          "data": {
            "text/plain": [
              "Produto\n",
              "DIESEL                5.375682\n",
              "DIESEL S10            5.454901\n",
              "ETANOL                5.456115\n",
              "GASOLINA              6.708741\n",
              "GASOLINA ADITIVADA    6.860422\n",
              "GNV                   4.392935\n",
              "Name: Valor de Venda, dtype: float64"
            ]
          },
          "metadata": {}
        }
      ]
    },
    {
      "cell_type": "code",
      "source": [
        "from openpyxl import load_workbook\n",
        "from openpyxl.styles import PatternFill, Font, Color, Alignment\n",
        "\n",
        "wb = load_workbook(excel)\n",
        "\n",
        "\n",
        "ws = wb['Sumário']\n",
        "\n",
        "\n",
        "cinzinha = PatternFill(\"solid\", fgColor=\"cccccc\")\n",
        "coords = ['A1', 'B1']\n",
        "for coord in coords:\n",
        "  ws[coord].fill = cinzinha\n",
        "\n",
        "MAX_ROW = ws.max_row\n",
        "num_linha=2\n",
        "while(num_linha <= ws.max_row):\n",
        "  coord = 'B'+str(num_linha)\n",
        "  if ws[coord].value >= 6.5:\n",
        "    ws[coord].font = Font(bold=True, color='FF0000')\n",
        "  else:\n",
        "    ws[coord].font = Font(color='00FF00')\n",
        "  num_linha += 1\n",
        "wb.save(excel)\n",
        "\n",
        "\n"
      ],
      "metadata": {
        "id": "V-BcDYvE4-9u"
      },
      "execution_count": 57,
      "outputs": []
    },
    {
      "cell_type": "code",
      "source": [],
      "metadata": {
        "id": "VrIOAogZ9T8X"
      },
      "execution_count": null,
      "outputs": []
    }
  ]
}